{
 "cells": [
  {
   "cell_type": "code",
   "execution_count": null,
   "metadata": {},
   "outputs": [],
   "source": []
  },
  {
   "cell_type": "code",
   "execution_count": 11,
   "metadata": {},
   "outputs": [],
   "source": [
    "import pandas as pd"
   ]
  },
  {
   "cell_type": "code",
   "execution_count": 12,
   "metadata": {
    "scrolled": true
   },
   "outputs": [],
   "source": [
    "df = pd.read_csv(\"Data/Rainfall_NE.csv\")"
   ]
  },
  {
   "cell_type": "code",
   "execution_count": 35,
   "metadata": {
    "scrolled": true
   },
   "outputs": [
    {
     "name": "stdout",
     "output_type": "stream",
     "text": [
      "  YEAR JAN FEB MAR APR MAY JUN JUL AUG SEP OCT NOV DEC JF MAM JJAS OND ANN\n",
      "0  1871 11 233 688 1511 2343 3380 4032 3782 2896 ...                      \n",
      "1  1872 98 214 435 1089 2202 3215 4324 3229 3907 ...                      \n",
      "2  1873 75 182 713 1292 1317 3357 3411 3101 1789 ...                      \n",
      "3  1874 352 761 646 1150 2602 3379 4148 2892 3750...                      \n",
      "4  1875 403 118 979 1456 2461 4835 3960 4997 1965...                      \n"
     ]
    },
    {
     "data": {
      "text/plain": [
       "Index(['YEAR JAN FEB MAR APR MAY JUN JUL AUG SEP OCT NOV DEC JF MAM JJAS OND ANN'], dtype='object')"
      ]
     },
     "execution_count": 35,
     "metadata": {},
     "output_type": "execute_result"
    }
   ],
   "source": [
    "print(df.head()) # Multiple Heads\n",
    "df.columns"
   ]
  },
  {
   "cell_type": "code",
   "execution_count": null,
   "metadata": {},
   "outputs": [],
   "source": []
  },
  {
   "cell_type": "code",
   "execution_count": null,
   "metadata": {},
   "outputs": [],
   "source": []
  },
  {
   "cell_type": "code",
   "execution_count": null,
   "metadata": {},
   "outputs": [],
   "source": []
  }
 ],
 "metadata": {
  "kernelspec": {
   "display_name": "Python 3",
   "language": "python",
   "name": "python3"
  },
  "language_info": {
   "codemirror_mode": {
    "name": "ipython",
    "version": 3
   },
   "file_extension": ".py",
   "mimetype": "text/x-python",
   "name": "python",
   "nbconvert_exporter": "python",
   "pygments_lexer": "ipython3",
   "version": "3.6.5"
  }
 },
 "nbformat": 4,
 "nbformat_minor": 2
}
