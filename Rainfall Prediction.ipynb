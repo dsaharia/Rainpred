{
 "cells": [
  {
   "cell_type": "code",
   "execution_count": null,
   "metadata": {},
   "outputs": [],
   "source": []
  },
  {
   "cell_type": "code",
   "execution_count": 11,
   "metadata": {},
   "outputs": [],
   "source": [
    "import pandas as pd"
   ]
  },
  {
   "cell_type": "code",
   "execution_count": 26,
   "metadata": {
    "scrolled": true
   },
   "outputs": [],
   "source": [
    "df = pd.read_csv(\"iitm-region.txt\")"
   ]
  },
  {
   "cell_type": "code",
   "execution_count": 28,
   "metadata": {},
   "outputs": [
    {
     "data": {
      "text/plain": [
       "<bound method NDFrame.head of                                                    NORTHEAST INDIA RAINFALL    (1871-2016)       4 SUBDIVISIONS AREA  267444 SQ.KM.                        \n",
       " Monthly                                             Seasonal and Annual rainfall (in 10th of mm) ...                                                      \n",
       " stations and 2015-2016 based on IMD Subdivisio...                                                NaN                                                      \n",
       "-----------------------------------------------...                                                NaN                                                      \n",
       "YEAR    JAN   FEB   MAR   APR   MAY   JUN   JUL...                                                NaN                                                      \n",
       "-----------------------------------------------...                                                NaN                                                      \n",
       "1871     11   233   688  1511  2343  3380  4032...                                                NaN                                                      \n",
       "1872     98   214   435  1089  2202  3215  4324...                                                NaN                                                      \n",
       "1873     75   182   713  1292  1317  3357  3411...                                                NaN                                                      \n",
       "1874    352   761   646  1150  2602  3379  4148...                                                NaN                                                      \n",
       "1875    403   118   979  1456  2461  4835  3960...                                                NaN                                                      \n",
       "1876     63   156   881   889  2488  4457  3879...                                                NaN                                                      \n",
       "1877    381   418   903  1046  2643  2436  4244...                                                NaN                                                      \n",
       "1878    119   308   594  1297  2352  3580  4015...                                                NaN                                                      \n",
       "1879     38   197   149   532  2692  4531  4173...                                                NaN                                                      \n",
       "1880    273   604  1404  1220  2104  5341  3646...                                                NaN                                                      \n",
       "1881     14    91   995  1632  2876  3596  3777...                                                NaN                                                      \n",
       "1882     91   602   819  1024  2270  3675  2889...                                                NaN                                                      \n",
       "1883    192   104   618  1065  3352  3495  3529...                                                NaN                                                      \n",
       "1884     89   286   631  1487  2440  3389  3045...                                                NaN                                                      \n",
       "1885     81   305   639  1191  1693  3597  4181...                                                NaN                                                      \n",
       "1886     49    75   848   955  2118  3699  4857...                                                NaN                                                      \n",
       "1887    479    37  1221  1118  2421  4567  2899...                                                NaN                                                      \n",
       "1888    251   377   870  1887  2392  3246  4038...                                                NaN                                                      \n",
       "1889    265   363   361  1117  2112  4547  3794...                                                NaN                                                      \n",
       "1890    170    23   824  1121  1678  4578  4466...                                                NaN                                                      \n",
       "1891     58   419   794  1033  3155  2841  3832...                                                NaN                                                      \n",
       "1892     57   300   498  2111  3142  3008  3783...                                                NaN                                                      \n",
       "1893    266   636   839  1487  3375  4719  4579...                                                NaN                                                      \n",
       "1894     23   401  1058  1220  2424  4000  3352...                                                NaN                                                      \n",
       "1895     79    76   579  1605  2470  2761  4964...                                                NaN                                                      \n",
       "...                                                                                               ...                                                      \n",
       "1987     63   205   789  1440  1335  3249  4647...                                                NaN                                                      \n",
       "1988     49   281   723   965  3264  3606  4990...                                                NaN                                                      \n",
       "1989     68   323   251  1206  2180  3479  5594...                                                NaN                                                      \n",
       "1990     43   467   984  2139  2297  3554  3900...                                                NaN                                                      \n",
       "1991    165   196   539  1263  3396  4049  4416...                                                NaN                                                      \n",
       "1992    107   444   330   761  2207  3272  4319...                                                NaN                                                      \n",
       "1993    320   862   682  1468  2741  4749  4861...                                                NaN                                                      \n",
       "1994    188   494  1235  1493  1939  3814  2985...                                                NaN                                                      \n",
       "1995    121   347   304   786  2399  3672  3810...                                                NaN                                                      \n",
       "1996    134   237   941   736  2849  3081  3887...                                                NaN                                                      \n",
       "1997    162   305   749  1256  1845  3689  4822...                                                NaN                                                      \n",
       "1998    236   341  1345  1374  2078  3162  4348...                                                NaN                                                      \n",
       "1999      8     1   237   618  3259  3342  4814...                                                NaN                                                      \n",
       "2000    160   201   595  1718  3157  3991  2928...                                                NaN                                                      \n",
       "2001     28   458   266  1091  2491  4110  3403...                                                NaN                                                      \n",
       "2002    254    47   580  1839  2179  3816  4748...                                                NaN                                                      \n",
       "2003     51   310   687  1237  1672  4284  3770...                                                NaN                                                      \n",
       "2004     92    97   318  2478  2320  3472  4951...                                                NaN                                                      \n",
       "2005    179   270  1199  1178  2043  2614  3444...                                                NaN                                                      \n",
       "2006      2   276   122  1128  2716  3121  3465...                                                NaN                                                      \n",
       "2007      9   751   333  1916  1808  3542  5533...                                                NaN                                                      \n",
       "2008    476   123   726  1056  1972  3934  3920...                                                NaN                                                      \n",
       "2009     38    81   360   710  2174  2334  3543...                                                NaN                                                      \n",
       "2010     24    66   680  2086  2819  3926  3081...                                                NaN                                                      \n",
       "2011     79    84   632   867  2238  3702  3027...                                                NaN                                                      \n",
       "2012    186    70   226  1450  1278  4192  3786...                                                NaN                                                      \n",
       "2013      8   116   307  1103  3392  2810  3212...                                                NaN                                                      \n",
       "2014     12   309   250   367  2312  3058  2875...                                                NaN                                                      \n",
       "2015    137   129   309  2014  2085  3826  3702...                                                NaN                                                      \n",
       "2016    142   275   530  1845  2408  2936  3700...                                                NaN                                                      \n",
       "\n",
       "[151 rows x 1 columns]>"
      ]
     },
     "execution_count": 28,
     "metadata": {},
     "output_type": "execute_result"
    }
   ],
   "source": [
    "df.head"
   ]
  },
  {
   "cell_type": "code",
   "execution_count": null,
   "metadata": {},
   "outputs": [],
   "source": []
  },
  {
   "cell_type": "code",
   "execution_count": null,
   "metadata": {},
   "outputs": [],
   "source": []
  },
  {
   "cell_type": "code",
   "execution_count": null,
   "metadata": {},
   "outputs": [],
   "source": []
  }
 ],
 "metadata": {
  "kernelspec": {
   "display_name": "Python 3",
   "language": "python",
   "name": "python3"
  },
  "language_info": {
   "codemirror_mode": {
    "name": "ipython",
    "version": 3
   },
   "file_extension": ".py",
   "mimetype": "text/x-python",
   "name": "python",
   "nbconvert_exporter": "python",
   "pygments_lexer": "ipython3",
   "version": "3.6.5"
  }
 },
 "nbformat": 4,
 "nbformat_minor": 2
}
